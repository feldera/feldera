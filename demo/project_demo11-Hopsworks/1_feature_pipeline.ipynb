{
 "cells": [
  {
   "cell_type": "markdown",
   "id": "802ec6a1-b608-40a5-931f-5e7dfb2d7046",
   "metadata": {},
   "source": [
    "# 01: Feature Pipeline"
   ]
  },
  {
   "cell_type": "markdown",
   "id": "76b7487a-c521-4405-a669-efcf972c8d51",
   "metadata": {},
   "source": [
    "## Create a Feldera Feature Pipeline"
   ]
  },
  {
   "cell_type": "code",
   "execution_count": null,
   "id": "4d98b4fc-f56a-442a-86c2-c94e73b552c1",
   "metadata": {},
   "outputs": [],
   "source": [
    "from feldera import FelderaClient, SQLContext, SQLSchema"
   ]
  },
  {
   "cell_type": "markdown",
   "id": "6415e0f3-41b5-4a0d-9f61-437cbd878d59",
   "metadata": {},
   "source": [
    "## Set Hopsworks API KEY"
   ]
  },
  {
   "cell_type": "code",
   "execution_count": null,
   "id": "a6dd4a65-8a50-4da7-bd73-8721ffdb25b2",
   "metadata": {},
   "outputs": [],
   "source": [
    "from ipython_secrets import *\n",
    "KEY = get_secret('HOPSWORKS_API_KEY')"
   ]
  },
  {
   "cell_type": "code",
   "execution_count": null,
   "id": "b532c124-cb6b-4779-8f26-9acaa509a89b",
   "metadata": {},
   "outputs": [],
   "source": [
    "# Connect to the Feldera API\n",
    "\n",
    "# Use Feldera online sandbox\n",
    "# client = FelderaClient(\"https://try.feldera.com\", api_key = get_secret('FELDERA_API_KEY'))\n",
    "\n",
    "# Use local Feldera instance \n",
    "client = FelderaClient(\"http://localhost:8080\")\n",
    "\n",
    "sql = SQLContext(\"hopsworks_kafka\", client).get_or_create()"
   ]
  },
  {
   "cell_type": "markdown",
   "id": "176854c0-2b0a-4e94-a40b-9039f12e302d",
   "metadata": {},
   "source": [
    "## Register Feldera Input Tables"
   ]
  },
  {
   "cell_type": "code",
   "execution_count": null,
   "id": "2fb8e951-69e3-4ddc-8e61-7c8ddbba3be1",
   "metadata": {},
   "outputs": [],
   "source": [
    "# define the table names for feldera DDL\n",
    "TBL_NAMES = [\"transactions\", \"profiles\"]\n",
    "\n",
    "# register input table in Feldera, based on the input data\n",
    "sql.register_table(TBL_NAMES[0], SQLSchema({\n",
    "    \"tid\": \"STRING\",\n",
    "    \"date_time\": \"TIMESTAMP\",\n",
    "    \"cc_num\": \"STRING\",\n",
    "    \"category\": \"STRING\",\n",
    "    \"amount\": \"DOUBLE\",\n",
    "    \"latitude\": \"DOUBLE\",\n",
    "    \"longitude\": \"DOUBLE\",\n",
    "    \"city\": \"STRING\",\n",
    "    \"country\": \"STRING\",\n",
    "    \"fraud_label\": \"INT\",\n",
    "}))\n",
    "\n",
    "sql.register_table(TBL_NAMES[1], SQLSchema({\n",
    "    \"cc_num\": \"STRING\",\n",
    "    \"cc_provider\": \"STRING\",\n",
    "    \"cc_type\": \"STRING\",\n",
    "    \"cc_expiration_date\": \"STRING\",\n",
    "    \"name\": \"STRING\",\n",
    "    \"mail\": \"STRING\",\n",
    "    \"birthdate\": \"TIMESTAMP\",\n",
    "    \"age\": \"INT\",\n",
    "    \"city\": \"STRING\",\n",
    "    \"country_of_residence\": \"STRING\",\n",
    "}))"
   ]
  },
  {
   "cell_type": "markdown",
   "id": "a2c31211-5a7f-4479-9d95-22ea12f16a65",
   "metadata": {},
   "source": [
    "## Define Views to Compute in Feldera"
   ]
  },
  {
   "cell_type": "markdown",
   "id": "979050d1-ad01-4756-b8bf-f7fefef5802f",
   "metadata": {},
   "source": [
    "### Feature Engineering\n",
    "\n",
    "Here we will create two different kinds of features: "
   ]
  },
  {
   "cell_type": "markdown",
   "id": "3b770c24-2fb8-47fd-8d6f-e8c8d7a2d4d5",
   "metadata": {},
   "source": [
    "#### 1. **Features that aggregate data from different sources**"
   ]
  },
  {
   "cell_type": "markdown",
   "id": "d9355fd2-747a-4fff-adf3-6e0c45b05e59",
   "metadata": {},
   "source": [
    "This view converts the credit card expiration date from `MM/YY` formatted string to a `TIMESTAMP`, so that we can perform computations on it. "
   ]
  },
  {
   "cell_type": "code",
   "execution_count": null,
   "id": "09f810da-c027-4d72-8fe8-d8e37b826845",
   "metadata": {},
   "outputs": [],
   "source": [
    "sql.register_local_view(\n",
    "    \"cc_expiration\", \n",
    "    f\"\"\"\n",
    "    SELECT\n",
    "        cc_num,\n",
    "        CAST(\n",
    "            CONCAT(\n",
    "                '20',\n",
    "                SUBSTRING(\n",
    "                    cc_expiration_date,\n",
    "                    4,\n",
    "                    2\n",
    "                ),\n",
    "                '-',\n",
    "                SUBSTRING(\n",
    "                    cc_expiration_date,\n",
    "                    1,\n",
    "                    2\n",
    "                ),\n",
    "                '-01 00:00:00'\n",
    "            ) AS TIMESTAMP\n",
    "        ) AS cc_expiration_date\n",
    "    FROM {TBL_NAMES[1]}\"\"\"\n",
    ")\n"
   ]
  },
  {
   "cell_type": "markdown",
   "id": "7de2e282-abfb-447b-b3d7-6adced109e49",
   "metadata": {},
   "source": [
    "Compute the age of the individual during the transaction, and the number of days until the credit card expires from `profiles` and `transactions` tables."
   ]
  },
  {
   "cell_type": "code",
   "execution_count": null,
   "id": "1d791c20-8c86-48e4-9a95-12f9fe58eb54",
   "metadata": {},
   "outputs": [],
   "source": [
    "sql.register_output_view(\n",
    "    \"combined\", \n",
    "    f\"\"\"\n",
    "    SELECT\n",
    "        T1.*,\n",
    "        T2.cc_expiration_date,\n",
    "        TIMESTAMPDIFF(YEAR, T3.birthdate, T1.date_time) age_at_transaction,\n",
    "        TIMESTAMPDIFF(DAY, T1.date_time, T2.cc_expiration_date) days_until_card_expires\n",
    "    FROM\n",
    "        {TBL_NAMES[0]} T1 LEFT JOIN cc_expiration T2\n",
    "        ON\n",
    "            T1.cc_num = T2.cc_num\n",
    "        LEFT JOIN {TBL_NAMES[1]} T3\n",
    "    ON\n",
    "        T1.cc_num = T3.cc_num\"\"\"\n",
    ")"
   ]
  },
  {
   "cell_type": "markdown",
   "id": "291f8677-8893-4f10-995f-1f88843609e3",
   "metadata": {},
   "source": [
    "#### 2. **Features that aggregate data from multiple time steps.** \n",
    "Compute the frequency of transactions and other metrics in the span of a few hours using a hopping window aggregate."
   ]
  },
  {
   "cell_type": "markdown",
   "id": "b0460ddf-49ec-45ba-b038-f0266255196b",
   "metadata": {},
   "source": [
    "Create a 4 hour hopping window aggregation from data from transactions table"
   ]
  },
  {
   "cell_type": "code",
   "execution_count": null,
   "id": "3b651d12-fb25-48f8-8a71-b80ba6d0b912",
   "metadata": {},
   "outputs": [],
   "source": [
    "sql.register_local_view(\n",
    "    \"hop\",\n",
    "    f\"\"\"\n",
    "    SELECT * FROM TABLE(HOP(TABLE {TBL_NAMES[0]}, DESCRIPTOR(date_time), INTERVAL 4 HOURS, INTERVAL 1 HOURS))\"\"\"\n",
    ")"
   ]
  },
  {
   "cell_type": "markdown",
   "id": "5beead21-9886-4457-a42d-58449a843ac1",
   "metadata": {},
   "source": [
    "Compute aggregates from it"
   ]
  },
  {
   "cell_type": "code",
   "execution_count": null,
   "id": "3b0ed3c6-6061-47ce-806b-c572b773a1af",
   "metadata": {},
   "outputs": [],
   "source": [
    "sql.register_local_view(\n",
    "    \"agg\",\n",
    "    \"\"\"\n",
    "    SELECT\n",
    "        AVG(amount) AS avg_amt,\n",
    "        STDDEV(CAST(amount AS DECIMAL(25,5))) as stddev_amt,\n",
    "        COUNT(cc_num) as trans,\n",
    "        ARRAY_AGG(date_time) as moments,\n",
    "        cc_num\n",
    "    FROM hop\n",
    "    GROUP BY cc_num, window_start\"\"\"\n",
    ")\n"
   ]
  },
  {
   "cell_type": "markdown",
   "id": "e89d211d-f454-4dcd-bfbf-b155dcdc31d5",
   "metadata": {},
   "source": [
    "Produces the final output view to send to the feature store"
   ]
  },
  {
   "cell_type": "code",
   "execution_count": null,
   "id": "b150e6c4-6776-4be2-9a82-1e22ec68bc23",
   "metadata": {},
   "outputs": [],
   "source": [
    "sql.register_output_view(\n",
    "    \"windowed\",\n",
    "    \"\"\"\n",
    "    SELECT\n",
    "        avg_amt,\n",
    "        trans,\n",
    "        CAST(COALESCE(stddev_amt, 0) AS DOUBLE) as stddev_amt,\n",
    "        date_time,\n",
    "        cc_num\n",
    "    FROM agg CROSS JOIN UNNEST(moments) as date_time\"\"\"\n",
    ")"
   ]
  },
  {
   "cell_type": "markdown",
   "id": "b2bc94df-de0a-4faa-93b1-c98cf2948b9e",
   "metadata": {},
   "source": [
    "## Connect to Hopsworks Feature Store"
   ]
  },
  {
   "cell_type": "code",
   "execution_count": null,
   "id": "83093136-a8ab-42a9-99f6-49e363c47f1d",
   "metadata": {},
   "outputs": [],
   "source": [
    "import hopsworks\n",
    "from hsfs import engine\n",
    "\n",
    "# Connects to Hopsworks\n",
    "project = hopsworks.login(host=\"c.app.hopsworks.ai\", api_key_value=KEY)\n",
    "\n",
    "kafka_api = project.get_kafka_api()\n",
    "\n",
    "fs = project.get_feature_store()"
   ]
  },
  {
   "cell_type": "markdown",
   "id": "c83e6d32-b6b5-4e5f-bdf6-c360b186248a",
   "metadata": {},
   "source": [
    "#### Get the feature group from Hopsworks"
   ]
  },
  {
   "cell_type": "code",
   "execution_count": null,
   "id": "e6ad8f60-58b1-48b9-bfe5-fdaf73a4a320",
   "metadata": {},
   "outputs": [],
   "source": [
    "profile_fg = fs.get_or_create_feature_group(\n",
    "    name=\"profile\",\n",
    "    version=1\n",
    ")\n",
    "\n",
    "profile_df = profile_fg.read()"
   ]
  },
  {
   "cell_type": "markdown",
   "id": "8b69b149-7273-4563-94ca-7d4f5282a226",
   "metadata": {},
   "source": [
    "#### Connect this DataFrame as Input to Feldera"
   ]
  },
  {
   "cell_type": "code",
   "execution_count": null,
   "id": "5d1931db-bb78-464f-84ae-90b1edb569e2",
   "metadata": {},
   "outputs": [],
   "source": [
    "sql.connect_source_pandas(TBL_NAMES[1], profile_df)"
   ]
  },
  {
   "cell_type": "markdown",
   "id": "66d4048e-2e12-4c35-8bf9-5f11d12e84d9",
   "metadata": {},
   "source": [
    "#### Get Hopsworks Kafka config to stream transactions data to Feldera"
   ]
  },
  {
   "cell_type": "code",
   "execution_count": null,
   "id": "e10f55fc-b0dc-4388-97b7-723337c6ab53",
   "metadata": {},
   "outputs": [],
   "source": [
    "# Get the public Kafka servers\n",
    "kafka_config = engine.get_instance()._get_kafka_config(fs.id, {})"
   ]
  },
  {
   "cell_type": "code",
   "execution_count": null,
   "id": "dc31ae4e-0445-4785-b24c-0511ba20f7ed",
   "metadata": {},
   "outputs": [],
   "source": [
    "# Get the transactions feature group from Hopsworks\n",
    "# We take the topic name from this feature group to set it as input for Feldera\n",
    "trans_fg = fs.get_or_create_feature_group(\n",
    "    name=\"raw_transactions\",\n",
    "    version=1\n",
    ")"
   ]
  },
  {
   "cell_type": "markdown",
   "id": "19d9d834-6e5b-434e-b158-e2e6888e7839",
   "metadata": {},
   "source": [
    "#### Connect the Kafka server to Feldera"
   ]
  },
  {
   "cell_type": "code",
   "execution_count": null,
   "id": "c249bcfd-dbe2-4ce7-b441-904ccd235608",
   "metadata": {},
   "outputs": [],
   "source": [
    "from feldera.formats import JSONFormat, JSONUpdateFormat\n",
    "\n",
    "in_fmt = JSONFormat().with_update_format(JSONUpdateFormat.Raw).with_array(False)\n",
    "\n",
    "KAFKA_INPUT_TOPIC = trans_fg.topic_name\n",
    "source_config = kafka_config | {\"topics\": [KAFKA_INPUT_TOPIC], \"auto.offset.reset\": \"earliest\"}\n",
    "\n",
    "# Connect the transactions feature group Kafka to Feldera\n",
    "sql.connect_source_kafka(TBL_NAMES[0], \"hopsworks_transactions_kafka_in\", source_config, in_fmt)"
   ]
  },
  {
   "cell_type": "markdown",
   "id": "c5d76c4d-a462-47a6-9db0-f09b9e0a5ea8",
   "metadata": {},
   "source": [
    "#### Create Feature Groups that represent Feldera Outputs"
   ]
  },
  {
   "cell_type": "code",
   "execution_count": null,
   "id": "274b0559-bec1-465e-90d2-99ffa9b97adb",
   "metadata": {},
   "outputs": [],
   "source": [
    "from hsfs.feature import Feature\n",
    "import json\n",
    "\n",
    "KAFKA_OUTPUT_TOPICS = [\"transactions_fraud_streaming_fg_\" + str(project.id), \"transactions_aggs_fraud_streaming_fg_\" + str(project.id)]\n",
    "\n",
    "# Create a feature group for the \n",
    "combined_fg = fs.get_or_create_feature_group(\n",
    "        name=KAFKA_OUTPUT_TOPICS[0],\n",
    "        primary_key=[\"cc_num\"],\n",
    "        online_enabled=True,\n",
    "        version=1,\n",
    "        topic_name=KAFKA_OUTPUT_TOPICS[0],\n",
    "        event_time=\"date_time\",\n",
    "        stream=True,\n",
    "        features=[\n",
    "            Feature(\"tid\", type=\"string\"),\n",
    "            Feature(\"date_time\", type=\"timestamp\"),\n",
    "            Feature(\"cc_num\", type=\"string\"),\n",
    "            Feature(\"category\", type=\"string\"),\n",
    "            Feature(\"amount\", type=\"double\"),\n",
    "            Feature(\"latitude\", type=\"double\"),\n",
    "            Feature(\"longitude\", type=\"double\"),\n",
    "            Feature(\"city\", type=\"string\"),\n",
    "            Feature(\"country\", type=\"string\"),\n",
    "            Feature(\"fraud_label\", type=\"int\"),\n",
    "            Feature(\"age_at_transaction\", type=\"int\"),\n",
    "            Feature(\"days_until_card_expires\", type=\"int\"),\n",
    "            Feature(\"cc_expiration_date\", type=\"timestamp\"),\n",
    "        ],\n",
    ")\n",
    "\n",
    "try:\n",
    "    combined_fg.save()\n",
    "except Exception as e:\n",
    "    print(e)\n",
    "\n",
    "if KAFKA_OUTPUT_TOPICS[0] not in [topic.name for topic in kafka_api.get_topics()]:\n",
    "    kafka_api.create_schema(KAFKA_OUTPUT_TOPICS[0], json.loads(combined_fg.avro_schema))\n",
    "    kafka_api.create_topic(KAFKA_OUTPUT_TOPICS[0], KAFKA_OUTPUT_TOPICS[0], 1, replicas=1, partitions=1)"
   ]
  },
  {
   "cell_type": "code",
   "execution_count": null,
   "id": "006bf487-56fe-4f99-96f6-15a8d8ed0d34",
   "metadata": {},
   "outputs": [],
   "source": [
    "combined_fg.avro_schema"
   ]
  },
  {
   "cell_type": "code",
   "execution_count": null,
   "id": "f33b5500-6b29-4f1c-901b-a6e113c64c33",
   "metadata": {},
   "outputs": [],
   "source": [
    "def create_sink_config(kafka_config: dict, fg, project_id):\n",
    "    return kafka_config | {\n",
    "        \"topic\": fg.topic_name,\n",
    "        \"auto.offset.reset\": \"earliest\",\n",
    "        \"headers\": [\n",
    "            {\n",
    "                'key': 'projectId',\n",
    "                'value': str(project_id),\n",
    "            },\n",
    "            {\n",
    "                'key': 'featureGroupId',\n",
    "                'value': str(fg.id),\n",
    "            },\n",
    "            {\n",
    "                'key': 'subjectId',\n",
    "                'value': str(fg.subject[\"id\"]),\n",
    "            },\n",
    "        ]\n",
    "    }"
   ]
  },
  {
   "cell_type": "markdown",
   "id": "f33f464e-b32f-4562-bbe6-b4e396e65569",
   "metadata": {},
   "source": [
    "#### Setup Hopsworks as a data sink for Feldera"
   ]
  },
  {
   "cell_type": "code",
   "execution_count": null,
   "id": "134637c6-68dc-4bf0-b07f-f2eac1a30820",
   "metadata": {},
   "outputs": [],
   "source": [
    "from feldera.formats import AvroFormat\n",
    "\n",
    "# Set the output format to use the avro schema from the feature group, and skip the schema id while serializing to Avro\n",
    "trans_out_fmt = AvroFormat().with_schema(combined_fg.avro_schema).with_skip_schema_id(True)\n",
    "sql.connect_sink_kafka(\"combined\", \"hopsworks_combined_kafka_out\", create_sink_config(kafka_config, combined_fg, project.id), trans_out_fmt)"
   ]
  },
  {
   "cell_type": "code",
   "execution_count": null,
   "id": "150c270b-0f3e-4198-8102-540f002cc7f4",
   "metadata": {},
   "outputs": [],
   "source": [
    "windowed_fg = fs.get_or_create_feature_group(\n",
    "    name=str(KAFKA_OUTPUT_TOPICS[1]),\n",
    "    primary_key=[\"cc_num\"],\n",
    "    online_enabled=True,\n",
    "    version=1,\n",
    "    topic_name=KAFKA_OUTPUT_TOPICS[1],\n",
    "    event_time=\"date_time\",\n",
    "    stream=True,\n",
    "    features=[\n",
    "        Feature(\"avg_amt\", type=\"double\"),\n",
    "        Feature(\"trans\", type=\"bigint\"),\n",
    "        Feature(\"stddev_amt\", type=\"double\"),\n",
    "        Feature(\"date_time\", type=\"timestamp\"),\n",
    "        Feature(\"cc_num\", type=\"string\"),\n",
    "    ],\n",
    ")\n",
    "\n",
    "\n",
    "try:\n",
    "    windowed_fg.save()\n",
    "except Exception as e:\n",
    "    print(e)"
   ]
  },
  {
   "cell_type": "code",
   "execution_count": null,
   "id": "e7dc8980-d2f7-4fd6-99b2-5080ddebaedd",
   "metadata": {},
   "outputs": [],
   "source": [
    "windowed_fg.avro_schema"
   ]
  },
  {
   "cell_type": "code",
   "execution_count": null,
   "id": "cf40e4d6-3973-4fdf-a73a-6f9bf3468431",
   "metadata": {},
   "outputs": [],
   "source": [
    "# Set the output format to use the avro schema from the feature group, and skip the schema id while serializing to Avro\n",
    "win_out_fmt = AvroFormat().with_schema(windowed_fg.avro_schema).with_skip_schema_id(True)\n",
    "sql.connect_sink_kafka(\"windowed\", \"hopsworks_windowed_kafka_out\", create_sink_config(kafka_config, windowed_fg, project.id), win_out_fmt)"
   ]
  },
  {
   "cell_type": "markdown",
   "id": "4d661e44-fd7a-4627-a6c5-ac48198611a8",
   "metadata": {},
   "source": [
    "## Run Feldera Pipeline"
   ]
  },
  {
   "cell_type": "code",
   "execution_count": null,
   "id": "2fece25e-7c9e-4967-bc9b-489af045e999",
   "metadata": {},
   "outputs": [],
   "source": [
    "sql.start()"
   ]
  },
  {
   "cell_type": "code",
   "execution_count": null,
   "id": "8b012bf9-41b2-422b-888c-323e258fdf70",
   "metadata": {},
   "outputs": [],
   "source": [
    "import time\n",
    "\n",
    "time.sleep(60)\n",
    "\n",
    "sql.shutdown()"
   ]
  },
  {
   "cell_type": "markdown",
   "id": "0c4c9fba-a739-4f21-8440-f6ba60e1c553",
   "metadata": {},
   "source": [
    "## Set a materialization job for the feature group in Hopsworks"
   ]
  },
  {
   "cell_type": "code",
   "execution_count": null,
   "id": "6e627f6d-bd5c-4022-8b4b-efaf3e9a304b",
   "metadata": {},
   "outputs": [],
   "source": [
    "import datetime\n",
    "\n",
    "# materialize every 10 minutes\n",
    "combined_fg.materialization_job.schedule(cron_expression = \"0 /10 * ? * * *\", start_time=datetime.datetime.now(tz=datetime.timezone.utc))\n",
    "windowed_fg.materialization_job.schedule(cron_expression = \"0 /10 * ? * * *\", start_time=datetime.datetime.now(tz=datetime.timezone.utc))"
   ]
  },
  {
   "cell_type": "code",
   "execution_count": null,
   "id": "44109b66-314f-4311-85de-0fa4508ff920",
   "metadata": {},
   "outputs": [],
   "source": [
    "combined_fg.materialization_job.run()\n",
    "windowed_fg.materialization_job.run()"
   ]
  },
  {
   "cell_type": "markdown",
   "id": "bd5fc831-f7c5-47b4-ab50-b87831fdf43d",
   "metadata": {},
   "source": [
    "# Great Expectations"
   ]
  },
  {
   "cell_type": "code",
   "execution_count": null,
   "id": "24891711-453e-4b60-9900-f20d266261bb",
   "metadata": {},
   "outputs": [],
   "source": [
    "import great_expectations as ge\n",
    "from great_expectations.core import ExpectationSuite, ExpectationConfiguration\n",
    "\n",
    "# Set the expectation suite name to \"transactions_suite\"\n",
    "expectation_suite_transactions = ge.core.ExpectationSuite(\n",
    "    expectation_suite_name=\"transactions_suite\"\n",
    ")"
   ]
  },
  {
   "cell_type": "code",
   "execution_count": null,
   "id": "189ceb06-fa6e-45ee-ba45-3c7b4116c21e",
   "metadata": {},
   "outputs": [],
   "source": [
    "# Check binary fraud_label column to be in set [0,1]\n",
    "expectation_suite_transactions.add_expectation(\n",
    "    ExpectationConfiguration(\n",
    "        expectation_type=\"expect_column_distinct_values_to_be_in_set\",\n",
    "        kwargs={\n",
    "            \"column\": \"fraud_label\",\n",
    "            \"value_set\": [0, 1],\n",
    "        }\n",
    "    )\n",
    ")\n",
    "\n",
    "# Check amount column to be not negative\n",
    "expectation_suite_transactions.add_expectation(\n",
    "    ExpectationConfiguration(\n",
    "        expectation_type=\"expect_column_values_to_be_between\",\n",
    "        kwargs={\n",
    "            \"column\": \"amount\",\n",
    "            \"min_value\": 0.0,\n",
    "        }\n",
    "    )\n",
    ")\n",
    "\n",
    "# Loop through specified columns ('tid', 'date_time', 'cc_num') and add expectations for null values\n",
    "for column in ['tid', 'date_time', 'cc_num']:\n",
    "    expectation_suite_transactions.add_expectation(\n",
    "        ExpectationConfiguration(\n",
    "            expectation_type=\"expect_column_values_to_be_null\",\n",
    "            kwargs={\n",
    "                \"column\": column,\n",
    "                \"mostly\": 0.0,\n",
    "            }\n",
    "        )\n",
    "    )"
   ]
  },
  {
   "cell_type": "code",
   "execution_count": null,
   "id": "f5f27685-bfcc-44f5-8520-b11a65180f72",
   "metadata": {},
   "outputs": [],
   "source": [
    "# update the feature group to store this expectation suite\n",
    "combined_fg.save_expectation_suite(expectation_suite_transactions)"
   ]
  },
  {
   "cell_type": "code",
   "execution_count": null,
   "id": "347532dd-f900-4145-ac81-043d0ecd99a0",
   "metadata": {},
   "outputs": [],
   "source": [
    "# Update feature descriptions\n",
    "feature_descriptions = [\n",
    "    {\"name\": \"tid\", \"description\": \"Transaction id\"},\n",
    "    {\"name\": \"date_time\", \"description\": \"Transaction time\"},\n",
    "    {\"name\": \"cc_num\", \"description\": \"Number of the credit card performing the transaction\"},\n",
    "    {\"name\": \"category\", \"description\": \"Expense category\"},\n",
    "    {\"name\": \"amount\", \"description\": \"Dollar amount of the transaction\"},\n",
    "    {\"name\": \"latitude\", \"description\": \"Transaction location latitude\"},\n",
    "    {\"name\": \"longitude\", \"description\": \"Transaction location longitude\"},\n",
    "    {\"name\": \"city\", \"description\": \"City in which the transaction was made\"},\n",
    "    {\"name\": \"country\", \"description\": \"Country in which the transaction was made\"},\n",
    "    {\"name\": \"fraud_label\", \"description\": \"Whether the transaction was fraudulent or not\"},\n",
    "    {\"name\": \"age_at_transaction\", \"description\": \"Age of the card holder when the transaction was made\"},\n",
    "    {\"name\": \"days_until_card_expires\", \"description\": \"Card validity days left when the transaction was made\"},\n",
    "]\n",
    "\n",
    "for desc in feature_descriptions: \n",
    "    combined_fg.update_feature_description(desc[\"name\"], desc[\"description\"])"
   ]
  }
 ],
 "metadata": {
  "kernelspec": {
   "display_name": "Python 3 (ipykernel)",
   "language": "python",
   "name": "python3"
  },
  "language_info": {
   "codemirror_mode": {
    "name": "ipython",
    "version": 3
   },
   "file_extension": ".py",
   "mimetype": "text/x-python",
   "name": "python",
   "nbconvert_exporter": "python",
   "pygments_lexer": "ipython3",
   "version": "3.10.12"
  }
 },
 "nbformat": 4,
 "nbformat_minor": 5
}
