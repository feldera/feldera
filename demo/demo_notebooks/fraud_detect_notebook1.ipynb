{
 "cells": [
  {
   "cell_type": "markdown",
   "id": "cd2b0059",
   "metadata": {
    "tags": []
   },
   "source": [
    "# Case Study: Real-Time Credit Card Fraud Detection\n",
    "\n",
    "## Background: real-time feature engineering with DBSP\n",
    "\n",
    "**Feature engineering** is the process of transforming raw data into a set of features that can be used to improve the predictive accuracy of an ML model.  Features are often expressed as SQL queries that filter, transform, aggregate, and join raw data.  These queries are evaluated by an RDBMS, e.g., Postgres, and the results are fed to the ML model during training and inference stages.\n",
    "\n",
    "**Real-time feature engineering** arises in applications where data arrives continuously and requires immediate analysis, such as fraud detection and anomaly detection.  The main challenge in this process is extracting features from constantly changing data.  Although simple cases can be handled by streaming analytics platforms like Flink, they fall short when it comes to complex SQL queries that feature engineers commonly use (we will see examples of such queries in this case study!).  A common workaround is to precompute features through periodic batch jobs in an RDBMS such as BigQuery and inject the precomputed features into the real-time data stream.  This approach allows arbitrary feauture queries but sacrifices **feature freshness**, resulting in poor prediction accuracy in many real-time ML applications since precomputed features do not reflect the latest input data.\n",
    "\n",
    "**Feldera aims to provide the benefits of both worlds** by evaluating complex feature queries directly on streaming data, eliminating the need for batch jobs and delivering perfect feature freshness.\n",
    "\n",
    "## About this case study\n",
    "\n",
    "Our goal in this case study is two-fold:\n",
    "\n",
    "1. To illustrate how ML engineers can invoke Feldera from a Jupyter notebook to evaluate feature extraction queries on streaming data during model training, testing, and inference.\n",
    "1. To empirically prove that Feldera enhances prediction accuracy in real-time ML.  Specifically, we demonstrate that **both complex queries and data freshness are critical for achieving high accuracy in real-time ML applications**.\n",
    "\n",
    "This case study is based on the credit card fraud detection solution published by the Google Cloud blog:\n",
    "https://cloud.google.com/blog/products/data-analytics/how-to-build-a-fraud-detection-solution"
   ]
  },
  {
   "cell_type": "code",
   "execution_count": 9,
   "id": "bd0696ef",
   "metadata": {},
   "outputs": [],
   "source": [
    "import os\n",
    "import tarfile\n",
    "import gdown\n",
    "from os import path\n",
    "import pandas as pd\n",
    "from datetime import datetime\n",
    "import geopy\n",
    "import geopy.distance\n",
    "from sklearn.preprocessing import LabelEncoder\n",
    "from xgboost import XGBClassifier\n",
    "from sklearn.model_selection import train_test_split\n",
    "from sklearn.metrics import accuracy_score, classification_report, confusion_matrix, precision_recall_curve, roc_curve\n",
    "from collections import Counter\n",
    "from sklearn.utils import shuffle\n",
    "import warnings\n",
    "import urllib.request\n",
    "import json\n",
    "import tensorflow as tf\n",
    "\n",
    "\n",
    "warnings.filterwarnings('ignore')\n",
    "\n",
    "train_url = \"https://raw.githubusercontent.com/feldera/ci_datasets/0eed3caac45415f6cd531dc5cb2e7f531d09a823/train_ci.csv\"\n",
    "test_url = \"https://raw.githubusercontent.com/feldera/ci_datasets/0eed3caac45415f6cd531dc5cb2e7f531d09a823/test_ci.csv\"\n",
    "simulation_url = \"https://raw.githubusercontent.com/feldera/ci_datasets/0eed3caac45415f6cd531dc5cb2e7f531d09a823/simulation_ci.csv\"\n",
    "demographics_url = \"https://github.com/feldera/ci_datasets/raw/e06f92fbd74f11d96ceb8b19c7692d05c7aca6d0/demographics.csv\"\n",
    "\n",
    "train_outpath        = path.abspath(\"fraud_data/train_output.csv\")\n",
    "test_outpath         = path.abspath(\"fraud_data/test_output.csv\")\n",
    "simulation_outpath   = path.abspath(\"fraud_data/simulation_output.csv\")"
   ]
  },
  {
   "cell_type": "markdown",
   "id": "37021d75-be0b-44ab-acc3-887c98af9dba",
   "metadata": {},
   "source": [
    "## Prepare a feature extraction query"
   ]
  },
  {
   "cell_type": "code",
   "execution_count": 10,
   "id": "89152a2c",
   "metadata": {},
   "outputs": [
    {
     "name": "stdout",
     "output_type": "stream",
     "text": [
      "Compiling program demo-fraud-detection-notebook-program (version: 1)...\n",
      "Program status: Success\n",
      "done\n"
     ]
    }
   ],
   "source": [
    "import os\n",
    "import time\n",
    "import requests\n",
    "\n",
    "# API URL\n",
    "api_url = \"http://localhost:8080\"\n",
    "\n",
    "# Program\n",
    "program_name = \"demo-fraud-detection-notebook-program\"\n",
    "program_sql = \"\"\"\n",
    "CREATE TABLE demographics (\n",
    "    cc_num FLOAT64 NOT NULL,\n",
    "    first STRING,\n",
    "    gender STRING,\n",
    "    street STRING,\n",
    "    city STRING,\n",
    "    state STRING,\n",
    "    zip INTEGER,\n",
    "    lat FLOAT64 NOT NULL,\n",
    "    long FLOAT64 NOT NULL,\n",
    "    city_pop INTEGER,\n",
    "    job STRING,\n",
    "    dob STRING\n",
    "    --dob DATE\n",
    ");\n",
    "\n",
    "CREATE TABLE transactions (\n",
    "    trans_date_trans_time TIMESTAMP NOT NULL,\n",
    "    cc_num FLOAT64 NOT NULL,\n",
    "    merchant STRING,\n",
    "    category STRING,\n",
    "    amt FLOAT64,\n",
    "    trans_num STRING,\n",
    "    unix_time INTEGER NOT NULL,\n",
    "    merch_lat FLOAT64 NOT NULL,\n",
    "    merch_long FLOAT64 NOT NULL,\n",
    "    is_fraud INTEGER\n",
    ");\n",
    "\n",
    "CREATE VIEW features as\n",
    "    SELECT\n",
    "        DAYOFWEEK(trans_date_trans_time) AS d,\n",
    "        -- TIMESTAMPDIFF(YEAR, trans_date_trans_time, CAST(dob as TIMESTAMP)) AS age,\n",
    "        \"ST_DISTANCE\"(\"ST_POINT\"(long,lat), \"ST_POINT\"(merch_long,merch_lat)) AS distance,\n",
    "        -- TIMESTAMPDIFF(MINUTE, trans_date_trans_time, last_txn_date) AS trans_diff,\n",
    "        AVG(amt) OVER(\n",
    "            PARTITION BY   CAST(cc_num AS NUMERIC)\n",
    "            ORDER BY unix_time\n",
    "            -- 1 week is 604800  seconds\n",
    "            RANGE BETWEEN 604800  PRECEDING AND 1 PRECEDING) AS\n",
    "        avg_spend_pw,\n",
    "        AVG(amt) OVER(\n",
    "            PARTITION BY  CAST(cc_num AS NUMERIC)\n",
    "            ORDER BY unix_time\n",
    "            -- 1 month(30 days) is 2592000 seconds\n",
    "            RANGE BETWEEN 2592000 PRECEDING AND 1 PRECEDING) AS\n",
    "        avg_spend_pm,\n",
    "        IFNULL(AVG(amt) OVER(\n",
    "            PARTITION BY CAST(cc_num AS NUMERIC), EXTRACT(DAY FROM trans_date_trans_time)\n",
    "            ORDER BY unix_time\n",
    "            RANGE BETWEEN 7776000 PRECEDING AND 1 PRECEDING), 0) AS\n",
    "        avg_spend_p3m_over_d,\n",
    "        COUNT(*) OVER(\n",
    "            PARTITION BY  CAST(cc_num AS NUMERIC)\n",
    "            ORDER BY unix_time\n",
    "            -- 1 day is 86400  seconds\n",
    "            RANGE BETWEEN 86400  PRECEDING AND 1 PRECEDING ) AS\n",
    "        trans_freq_24,\n",
    "        category,\n",
    "        amt,\n",
    "        state,\n",
    "        job,\n",
    "        unix_time,\n",
    "        city_pop,\n",
    "        merchant,\n",
    "        is_fraud\n",
    "    FROM (\n",
    "        SELECT t1.*, t2.*\n",
    "               -- , LAG(trans_date_trans_time, 1) OVER (PARTITION BY t1.cc_num  ORDER BY trans_date_trans_time ASC) AS last_txn_date\n",
    "        FROM  transactions AS t1\n",
    "        JOIN  demographics AS t2\n",
    "        ON t1.cc_num = t2.cc_num);\"\"\"\n",
    "\n",
    "# Create program\n",
    "response = requests.put(f\"{api_url}/v0/programs/{program_name}\", json={\n",
    "    \"description\": \"\",\n",
    "    \"code\": program_sql\n",
    "})\n",
    "response.raise_for_status()\n",
    "program_version = response.json()[\"version\"]\n",
    "\n",
    "# Compile program\n",
    "print(f\"Compiling program {program_name} (version: {program_version})...\")\n",
    "requests.post(f\"{api_url}/v0/programs/{program_name}/compile\", json={\"version\": program_version}).raise_for_status()\n",
    "while True:\n",
    "    status = requests.get(f\"{api_url}/v0/programs/{program_name}\").json()[\"status\"]\n",
    "    print(f\"Program status: {status}\")\n",
    "    if status == \"Success\":\n",
    "        break\n",
    "    elif status != \"Pending\" and status != \"CompilingRust\" and status != \"CompilingSql\":\n",
    "        raise RuntimeError(f\"Failed program compilation with status {status}\")\n",
    "    time.sleep(5)\n",
    "print(\"done\")"
   ]
  },
  {
   "cell_type": "code",
   "execution_count": 28,
   "id": "7886a22c",
   "metadata": {},
   "outputs": [],
   "source": [
    "import time\n",
    "import threading\n",
    "\n",
    "def wait_for_pipeline(pipeline_name: str):\n",
    "    # Wait till the pipeline is completed\n",
    "    while not requests.get(f\"{api_url}/v0/pipelines/{pipeline_name}/stats\") \\\n",
    "            .json()[\"global_metrics\"][\"pipeline_complete\"]:\n",
    "        time.sleep(1)\n",
    "    \n",
    "    requests.post(f\"{api_url}/v0/pipelines/{pipeline_name}/shutdown\").raise_for_status()\n",
    "\n",
    "\n",
    "def run_query(transaction_url: str, output_file: str):\n",
    "\n",
    "    # Connectors\n",
    "    connectors = []\n",
    "    for (connector_name, stream, url, is_input) in [\n",
    "        (\"demographics\", 'DEMOGRAPHICS', demographics_url, True),\n",
    "        (\"transactions\", 'TRANSACTIONS', transaction_url, True),\n",
    "    ]:\n",
    "        requests.put(f\"{api_url}/v0/connectors/{connector_name}\", json={\n",
    "            \"description\": \"\",\n",
    "            \"config\": {\n",
    "               \"format\": { \"name\": \"csv\", \"config\": {} },\n",
    "               \"transport\": { \"name\": \"url\", \"config\": { \"path\": url, } }\n",
    "            }\n",
    "        })\n",
    "        connectors.append({ \"connector_name\": connector_name, \"is_input\": is_input, \"name\": connector_name, \"relation_name\": stream })\n",
    "    \n",
    "    # Create pipeline\n",
    "    pipeline_name = \"demo-fraud-detection-notebook-pipeline\"\n",
    "    requests.put(f\"{api_url}/v0/pipelines/{pipeline_name}\", json={\n",
    "        \"description\": \"\",\n",
    "        \"config\": {\"workers\": 6},\n",
    "        \"program_name\": program_name,\n",
    "        \"connectors\": connectors,\n",
    "    }).raise_for_status()\n",
    "    \n",
    "    # Start pipeline in paused state, so we don't miss any outputs\n",
    "    print(\"(Re)starting pipeline...\")\n",
    "    requests.post(f\"{api_url}/v0/pipelines/{pipeline_name}/shutdown\").raise_for_status()\n",
    "    while requests.get(f\"{api_url}/v0/pipelines/{pipeline_name}\").json()[\"state\"][\"current_status\"] != \"Shutdown\":\n",
    "        time.sleep(1)\n",
    "    requests.post(f\"{api_url}/v0/pipelines/{pipeline_name}/pause\").raise_for_status()\n",
    "    while requests.get(f\"{api_url}/v0/pipelines/{pipeline_name}\").json()[\"state\"][\"current_status\"] != \"Paused\":\n",
    "        time.sleep(1)\n",
    "        \n",
    "    print(\"Pipeline (re)started\")\n",
    "\n",
    "    # Start listening for the output stream\n",
    "    features = requests.post(f\"{api_url}/v0/pipelines/{pipeline_name}/egress/features?format=csv\", stream = True)   \n",
    "\n",
    "    # Run the pipeline\n",
    "    requests.post(f\"{api_url}/v0/pipelines/{pipeline_name}/start\").raise_for_status()\n",
    "    while requests.get(f\"{api_url}/v0/pipelines/{pipeline_name}\").json()[\"state\"][\"current_status\"] != \"Running\":\n",
    "        time.sleep(1)\n",
    "    \n",
    "    # Wait for the pipeline to complete. The thread will shutdown the pipeline when it's done,\n",
    "    # allowing the iteration below to terminate.\n",
    "    thread = threading.Thread(target=wait_for_pipeline(pipeline_name))\n",
    "    thread.start()\n",
    "        \n",
    "    print(f\"writing features to {output_file}\")\n",
    "    with open(output_file, \"w\") as feature_file:\n",
    "        for line in features.iter_lines():\n",
    "            if line:\n",
    "                #print(line)\n",
    "                #print(json.loads(line).get(\"text_data\"))\n",
    "                data = json.loads(line).get(\"text_data\")\n",
    "                if data is not None:\n",
    "                    feature_file.write(data + '\\n')"
   ]
  },
  {
   "cell_type": "markdown",
   "id": "3ceee2c1-90af-4823-8521-733287328119",
   "metadata": {},
   "source": [
    "## Compute features on training and testing datasets"
   ]
  },
  {
   "cell_type": "code",
   "execution_count": 29,
   "id": "2cbfdd56",
   "metadata": {},
   "outputs": [
    {
     "name": "stdout",
     "output_type": "stream",
     "text": [
      "(Re)starting pipeline...\n",
      "Pipeline (re)started\n",
      "writing features to /Users/gerdzellweger/workspace/dbsp/demo/demo_notebooks/fraud_data/test_output.csv\n"
     ]
    },
    {
     "ename": "JSONDecodeError",
     "evalue": "Unterminated string starting at: line 1 column 34 (char 33)",
     "output_type": "error",
     "traceback": [
      "\u001b[0;31m---------------------------------------------------------------------------\u001b[0m",
      "\u001b[0;31mJSONDecodeError\u001b[0m                           Traceback (most recent call last)",
      "Cell \u001b[0;32mIn[29], line 3\u001b[0m\n\u001b[1;32m      1\u001b[0m \u001b[38;5;66;03m#run_query(train_url, train_outpath)\u001b[39;00m\n\u001b[1;32m      2\u001b[0m \u001b[38;5;66;03m#print(\"Training pipeline finished\")\u001b[39;00m\n\u001b[0;32m----> 3\u001b[0m \u001b[43mrun_query\u001b[49m\u001b[43m(\u001b[49m\u001b[43mtest_url\u001b[49m\u001b[43m,\u001b[49m\u001b[43m \u001b[49m\u001b[43mtest_outpath\u001b[49m\u001b[43m)\u001b[49m\n\u001b[1;32m      4\u001b[0m \u001b[38;5;28mprint\u001b[39m(\u001b[38;5;124m\"\u001b[39m\u001b[38;5;124mTest pipeline finished\u001b[39m\u001b[38;5;124m\"\u001b[39m)\n",
      "Cell \u001b[0;32mIn[28], line 69\u001b[0m, in \u001b[0;36mrun_query\u001b[0;34m(transaction_url, output_file)\u001b[0m\n\u001b[1;32m     65\u001b[0m \u001b[38;5;28;01mfor\u001b[39;00m line \u001b[38;5;129;01min\u001b[39;00m features\u001b[38;5;241m.\u001b[39miter_lines():\n\u001b[1;32m     66\u001b[0m     \u001b[38;5;28;01mif\u001b[39;00m line:\n\u001b[1;32m     67\u001b[0m         \u001b[38;5;66;03m#print(line)\u001b[39;00m\n\u001b[1;32m     68\u001b[0m         \u001b[38;5;66;03m#print(json.loads(line).get(\"text_data\"))\u001b[39;00m\n\u001b[0;32m---> 69\u001b[0m         data \u001b[38;5;241m=\u001b[39m \u001b[43mjson\u001b[49m\u001b[38;5;241;43m.\u001b[39;49m\u001b[43mloads\u001b[49m\u001b[43m(\u001b[49m\u001b[43mline\u001b[49m\u001b[43m)\u001b[49m\u001b[38;5;241m.\u001b[39mget(\u001b[38;5;124m\"\u001b[39m\u001b[38;5;124mtext_data\u001b[39m\u001b[38;5;124m\"\u001b[39m)\n\u001b[1;32m     70\u001b[0m         \u001b[38;5;28;01mif\u001b[39;00m data \u001b[38;5;129;01mis\u001b[39;00m \u001b[38;5;129;01mnot\u001b[39;00m \u001b[38;5;28;01mNone\u001b[39;00m:\n\u001b[1;32m     71\u001b[0m             feature_file\u001b[38;5;241m.\u001b[39mwrite(data \u001b[38;5;241m+\u001b[39m \u001b[38;5;124m'\u001b[39m\u001b[38;5;130;01m\\n\u001b[39;00m\u001b[38;5;124m'\u001b[39m)\n",
      "File \u001b[0;32m/Library/Developer/CommandLineTools/Library/Frameworks/Python3.framework/Versions/3.9/lib/python3.9/json/__init__.py:346\u001b[0m, in \u001b[0;36mloads\u001b[0;34m(s, cls, object_hook, parse_float, parse_int, parse_constant, object_pairs_hook, **kw)\u001b[0m\n\u001b[1;32m    341\u001b[0m     s \u001b[38;5;241m=\u001b[39m s\u001b[38;5;241m.\u001b[39mdecode(detect_encoding(s), \u001b[38;5;124m'\u001b[39m\u001b[38;5;124msurrogatepass\u001b[39m\u001b[38;5;124m'\u001b[39m)\n\u001b[1;32m    343\u001b[0m \u001b[38;5;28;01mif\u001b[39;00m (\u001b[38;5;28mcls\u001b[39m \u001b[38;5;129;01mis\u001b[39;00m \u001b[38;5;28;01mNone\u001b[39;00m \u001b[38;5;129;01mand\u001b[39;00m object_hook \u001b[38;5;129;01mis\u001b[39;00m \u001b[38;5;28;01mNone\u001b[39;00m \u001b[38;5;129;01mand\u001b[39;00m\n\u001b[1;32m    344\u001b[0m         parse_int \u001b[38;5;129;01mis\u001b[39;00m \u001b[38;5;28;01mNone\u001b[39;00m \u001b[38;5;129;01mand\u001b[39;00m parse_float \u001b[38;5;129;01mis\u001b[39;00m \u001b[38;5;28;01mNone\u001b[39;00m \u001b[38;5;129;01mand\u001b[39;00m\n\u001b[1;32m    345\u001b[0m         parse_constant \u001b[38;5;129;01mis\u001b[39;00m \u001b[38;5;28;01mNone\u001b[39;00m \u001b[38;5;129;01mand\u001b[39;00m object_pairs_hook \u001b[38;5;129;01mis\u001b[39;00m \u001b[38;5;28;01mNone\u001b[39;00m \u001b[38;5;129;01mand\u001b[39;00m \u001b[38;5;129;01mnot\u001b[39;00m kw):\n\u001b[0;32m--> 346\u001b[0m     \u001b[38;5;28;01mreturn\u001b[39;00m \u001b[43m_default_decoder\u001b[49m\u001b[38;5;241;43m.\u001b[39;49m\u001b[43mdecode\u001b[49m\u001b[43m(\u001b[49m\u001b[43ms\u001b[49m\u001b[43m)\u001b[49m\n\u001b[1;32m    347\u001b[0m \u001b[38;5;28;01mif\u001b[39;00m \u001b[38;5;28mcls\u001b[39m \u001b[38;5;129;01mis\u001b[39;00m \u001b[38;5;28;01mNone\u001b[39;00m:\n\u001b[1;32m    348\u001b[0m     \u001b[38;5;28mcls\u001b[39m \u001b[38;5;241m=\u001b[39m JSONDecoder\n",
      "File \u001b[0;32m/Library/Developer/CommandLineTools/Library/Frameworks/Python3.framework/Versions/3.9/lib/python3.9/json/decoder.py:337\u001b[0m, in \u001b[0;36mJSONDecoder.decode\u001b[0;34m(self, s, _w)\u001b[0m\n\u001b[1;32m    332\u001b[0m \u001b[38;5;28;01mdef\u001b[39;00m \u001b[38;5;21mdecode\u001b[39m(\u001b[38;5;28mself\u001b[39m, s, _w\u001b[38;5;241m=\u001b[39mWHITESPACE\u001b[38;5;241m.\u001b[39mmatch):\n\u001b[1;32m    333\u001b[0m \u001b[38;5;250m    \u001b[39m\u001b[38;5;124;03m\"\"\"Return the Python representation of ``s`` (a ``str`` instance\u001b[39;00m\n\u001b[1;32m    334\u001b[0m \u001b[38;5;124;03m    containing a JSON document).\u001b[39;00m\n\u001b[1;32m    335\u001b[0m \n\u001b[1;32m    336\u001b[0m \u001b[38;5;124;03m    \"\"\"\u001b[39;00m\n\u001b[0;32m--> 337\u001b[0m     obj, end \u001b[38;5;241m=\u001b[39m \u001b[38;5;28;43mself\u001b[39;49m\u001b[38;5;241;43m.\u001b[39;49m\u001b[43mraw_decode\u001b[49m\u001b[43m(\u001b[49m\u001b[43ms\u001b[49m\u001b[43m,\u001b[49m\u001b[43m \u001b[49m\u001b[43midx\u001b[49m\u001b[38;5;241;43m=\u001b[39;49m\u001b[43m_w\u001b[49m\u001b[43m(\u001b[49m\u001b[43ms\u001b[49m\u001b[43m,\u001b[49m\u001b[43m \u001b[49m\u001b[38;5;241;43m0\u001b[39;49m\u001b[43m)\u001b[49m\u001b[38;5;241;43m.\u001b[39;49m\u001b[43mend\u001b[49m\u001b[43m(\u001b[49m\u001b[43m)\u001b[49m\u001b[43m)\u001b[49m\n\u001b[1;32m    338\u001b[0m     end \u001b[38;5;241m=\u001b[39m _w(s, end)\u001b[38;5;241m.\u001b[39mend()\n\u001b[1;32m    339\u001b[0m     \u001b[38;5;28;01mif\u001b[39;00m end \u001b[38;5;241m!=\u001b[39m \u001b[38;5;28mlen\u001b[39m(s):\n",
      "File \u001b[0;32m/Library/Developer/CommandLineTools/Library/Frameworks/Python3.framework/Versions/3.9/lib/python3.9/json/decoder.py:353\u001b[0m, in \u001b[0;36mJSONDecoder.raw_decode\u001b[0;34m(self, s, idx)\u001b[0m\n\u001b[1;32m    344\u001b[0m \u001b[38;5;250m\u001b[39m\u001b[38;5;124;03m\"\"\"Decode a JSON document from ``s`` (a ``str`` beginning with\u001b[39;00m\n\u001b[1;32m    345\u001b[0m \u001b[38;5;124;03ma JSON document) and return a 2-tuple of the Python\u001b[39;00m\n\u001b[1;32m    346\u001b[0m \u001b[38;5;124;03mrepresentation and the index in ``s`` where the document ended.\u001b[39;00m\n\u001b[0;32m   (...)\u001b[0m\n\u001b[1;32m    350\u001b[0m \n\u001b[1;32m    351\u001b[0m \u001b[38;5;124;03m\"\"\"\u001b[39;00m\n\u001b[1;32m    352\u001b[0m \u001b[38;5;28;01mtry\u001b[39;00m:\n\u001b[0;32m--> 353\u001b[0m     obj, end \u001b[38;5;241m=\u001b[39m \u001b[38;5;28;43mself\u001b[39;49m\u001b[38;5;241;43m.\u001b[39;49m\u001b[43mscan_once\u001b[49m\u001b[43m(\u001b[49m\u001b[43ms\u001b[49m\u001b[43m,\u001b[49m\u001b[43m \u001b[49m\u001b[43midx\u001b[49m\u001b[43m)\u001b[49m\n\u001b[1;32m    354\u001b[0m \u001b[38;5;28;01mexcept\u001b[39;00m \u001b[38;5;167;01mStopIteration\u001b[39;00m \u001b[38;5;28;01mas\u001b[39;00m err:\n\u001b[1;32m    355\u001b[0m     \u001b[38;5;28;01mraise\u001b[39;00m JSONDecodeError(\u001b[38;5;124m\"\u001b[39m\u001b[38;5;124mExpecting value\u001b[39m\u001b[38;5;124m\"\u001b[39m, s, err\u001b[38;5;241m.\u001b[39mvalue) \u001b[38;5;28;01mfrom\u001b[39;00m \u001b[38;5;28;01mNone\u001b[39;00m\n",
      "\u001b[0;31mJSONDecodeError\u001b[0m: Unterminated string starting at: line 1 column 34 (char 33)"
     ]
    }
   ],
   "source": [
    "#run_query(train_url, train_outpath)\n",
    "#print(\"Training pipeline finished\")\n",
    "run_query(test_url, test_outpath)\n",
    "print(\"Test pipeline finished\")"
   ]
  },
  {
   "cell_type": "markdown",
   "id": "ee26c169",
   "metadata": {},
   "source": [
    "## Train XGBoost model"
   ]
  },
  {
   "cell_type": "code",
   "execution_count": 10,
   "id": "74331f53",
   "metadata": {},
   "outputs": [
    {
     "name": "stdout",
     "output_type": "stream",
     "text": [
      "Precision =     1.000\n",
      "Recall (TPR) =  1.000\n",
      "F1 = 1.000\n",
      "Precision =     0.942\n",
      "Recall (TPR) =  0.920\n",
      "F1 = 0.931\n",
      "XGBoost Accuracy: 99.79%\n"
     ]
    }
   ],
   "source": [
    "def show_data(cm, print_res = 0):\n",
    "    tp = cm[1,1]\n",
    "    fn = cm[1,0]\n",
    "    fp = cm[0,1]\n",
    "    tn = cm[0,0]\n",
    "    if print_res == 1:\n",
    "        global pr, rec, f1\n",
    "        pr = tp/(tp+fp)\n",
    "        rec=  tp/(tp+fn)\n",
    "        f1 = (2*(pr*rec)/(pr+rec))\n",
    "        print('Precision =     {:.3f}'.format(pr))\n",
    "        print('Recall (TPR) =  {:.3f}'.format(rec))\n",
    "        #print('Fallout (FPR) = {:.3f}'.format(fp/(fp+tn)))\n",
    "        print('F1 = {:.3f}'.format(f1))\n",
    "    return tp/(tp+fp), tp/(tp+fn), fp/(fp+tn)\n",
    "\n",
    "max_depth = 12\n",
    "n_estimators = 100\n",
    "\n",
    "traindata     = pd.read_csv(train_outpath, float_precision='round_trip')  \n",
    "train_dataset = shuffle(traindata)\n",
    "\n",
    "test_dataset     = pd.read_csv(test_outpath, float_precision='round_trip')  \n",
    "\n",
    "nb_cols = len(train_dataset.columns.tolist())\n",
    "    \n",
    "X_train = train_dataset.iloc[:, 0:nb_cols - 2].values\n",
    "y_train = train_dataset.iloc[:, nb_cols-2].values.astype(int)        \n",
    "\n",
    "X_test = test_dataset.iloc[:, 0:nb_cols - 2].values\n",
    "y_test = test_dataset.iloc[:, nb_cols-2].values.astype(int)    \n",
    "\n",
    "\n",
    "model = XGBClassifier(max_depth = max_depth,  n_estimators = n_estimators, objective = 'binary:logistic')#, scale_pos_weight= estimate) \n",
    "setattr(model, 'verbosity', 0)\n",
    "\n",
    "\n",
    "model.fit(X_train, y_train)\n",
    "\n",
    "# evaluate train data\n",
    "y_pred = model.predict(X_train)\n",
    "predictions = [round(value) for value in y_pred]\n",
    "cm = confusion_matrix(y_train, predictions)\n",
    "show_data(cm, print_res = 1)\n",
    "\n",
    "# evaluate for test data\n",
    "y_pred = model.predict(X_test)\n",
    "predictions = [round(value) for value in y_pred]\n",
    "cm = confusion_matrix(y_test, predictions)\n",
    "show_data(cm, print_res = 1)\n",
    "\n",
    "accuracy = accuracy_score(y_test, predictions)\n",
    "print(\"XGBoost Accuracy: %.2f%%\" % (accuracy * 100.0))\n",
    "\n"
   ]
  },
  {
   "cell_type": "markdown",
   "id": "ea90ef39",
   "metadata": {},
   "source": [
    "## Inference"
   ]
  },
  {
   "cell_type": "code",
   "execution_count": 11,
   "id": "692c286a",
   "metadata": {},
   "outputs": [
    {
     "name": "stdout",
     "output_type": "stream",
     "text": [
      "(Re)starting pipeline...\n",
      "Pipeline (re)started\n",
      "writing features to c:\\Users\\rivud\\OneDrive\\Desktop\\MODEL\\fraud_data\\simulation_output.csv\n"
     ]
    }
   ],
   "source": [
    "run_query(simulation_url, simulation_outpath)"
   ]
  },
  {
   "cell_type": "code",
   "execution_count": 12,
   "id": "5f993f7e",
   "metadata": {},
   "outputs": [
    {
     "name": "stdout",
     "output_type": "stream",
     "text": [
      "reading data from c:\\Users\\rivud\\OneDrive\\Desktop\\MODEL\\fraud_data\\simulation_output.csv\n",
      "Precision =     0.700\n",
      "Recall (TPR) =  0.933\n",
      "F1 = 0.800\n",
      "XGBoost Accuracy: 99.73%\n",
      "Precision =     0.945\n",
      "Recall (TPR) =  0.979\n",
      "F1 = 0.962\n",
      "XGBoost Accuracy: 99.89%\n",
      "Precision =     0.991\n",
      "Recall (TPR) =  0.888\n",
      "F1 = 0.937\n",
      "XGBoost Accuracy: 99.72%\n",
      "Precision =     0.985\n",
      "Recall (TPR) =  0.873\n",
      "F1 = 0.926\n",
      "XGBoost Accuracy: 99.79%\n",
      "Precision =     0.992\n",
      "Recall (TPR) =  0.961\n",
      "F1 = 0.976\n",
      "XGBoost Accuracy: 99.93%\n"
     ]
    }
   ],
   "source": [
    "try:\n",
    "    chunksize = 1024*10\n",
    "    print(f\"reading data from {simulation_outpath}\")\n",
    "    simulation = pd.read_csv(simulation_outpath, iterator=True, chunksize=chunksize)\n",
    "    for simulation_batch in simulation:\n",
    "        nb_cols = len(simulation_batch.columns.tolist())        \n",
    "        X_simulation = simulation_batch.iloc[:, 0:nb_cols - 2].values\n",
    "        y_simulation = simulation_batch.iloc[:, nb_cols-2].values.astype(int)     \n",
    "        \n",
    "        y_pred = model.predict(X_simulation)    \n",
    "        predictions = [round(value) for value in y_pred]\n",
    "        cm = confusion_matrix(y_simulation, predictions)\n",
    "        show_data(cm, print_res = 1)    \n",
    "        accuracy = accuracy_score(y_simulation, predictions)\n",
    "        print(\"XGBoost Accuracy: %.2f%%\" % (accuracy * 100.0))\n",
    "     \n",
    "except Exception as err:\n",
    "    print(f\"Error: cannot read from the specified source {err}\")"
   ]
  },
  {
   "cell_type": "code",
   "execution_count": 13,
   "id": "3d10d4d2",
   "metadata": {},
   "outputs": [
    {
     "name": "stdout",
     "output_type": "stream",
     "text": [
      "Log directory: logs/xgboost_fraud_detection1\n"
     ]
    }
   ],
   "source": [
    "log_dir = 'logs/xgboost_fraud_detection1'\n",
    "os.makedirs('logs/xgboost_fraud_detection1', exist_ok=True)\n",
    "print(f\"Log directory: {log_dir}\") "
   ]
  },
  {
   "cell_type": "code",
   "execution_count": 14,
   "id": "83e0e227",
   "metadata": {},
   "outputs": [],
   "source": [
    "# train_summary_writer = tf.summary.create_file_writer(os.path.join(log_dir, 'train'))\n",
    "# test_summary_writer = tf.summary.create_file_writer(os.path.join(log_dir, 'test'))\n",
    "# simulation_summary_writer = tf.summary.create_file_writer(os.path.join(log_dir, 'simulation'))"
   ]
  },
  {
   "cell_type": "code",
   "execution_count": 14,
   "id": "663f4506",
   "metadata": {},
   "outputs": [],
   "source": [
    "summary_writer = tf.summary.create_file_writer(log_dir)"
   ]
  },
  {
   "cell_type": "code",
   "execution_count": 15,
   "id": "a540f555",
   "metadata": {},
   "outputs": [],
   "source": [
    "step = 0\n",
    "with summary_writer.as_default():\n",
    "    tf.summary.scalar('accuracy', accuracy, step= step)\n",
    "    tf.summary.scalar('precision', pr, step= step)\n",
    "    tf.summary.scalar('recall', rec, step= step)\n",
    "    tf.summary.scalar('f1_score', f1, step= step)\n",
    "# step += 1\n"
   ]
  },
  {
   "cell_type": "code",
   "execution_count": 16,
   "id": "55282b82",
   "metadata": {},
   "outputs": [
    {
     "data": {
      "text/plain": [
       "Launching TensorBoard..."
      ]
     },
     "metadata": {},
     "output_type": "display_data"
    }
   ],
   "source": [
    "%load_ext tensorboard\n",
    "%tensorboard --logdir logs/xgboost_fraud_detection1"
   ]
  },
  {
   "cell_type": "code",
   "execution_count": 15,
   "id": "4233ee9a",
   "metadata": {},
   "outputs": [
    {
     "data": {
      "image/png": "[encoded data removed]",
      "text/plain": [
       "<Figure size 640x480 with 1 Axes>"
      ]
     },
     "metadata": {},
     "output_type": "display_data"
    }
   ],
   "source": [
    "import matplotlib.pyplot as plt\n",
    "#Printing AUC\n",
    "from sklearn.metrics import roc_curve, auc\n",
    "y_PredTest= model.predict_proba(X_simulation)\n",
    "\n",
    "fp, tp,_ = roc_curve(y_simulation, y_pred)\n",
    "\n",
    "\n",
    "plt.plot(fp, tp, label=\" AUC TEST =\"+str(auc(fp, tp)))\n",
    "plt.plot([0,1],[0,1],'g--')\n",
    "plt.legend()\n",
    "plt.xlabel(\"False Positive Rate\")\n",
    "plt.ylabel(\"True Positive Rate\")\n",
    "plt.title(\"AUC(ROC curve)\")\n",
    "plt.show()"
   ]
  },
  {
   "cell_type": "code",
   "execution_count": 17,
   "id": "c7b42843",
   "metadata": {},
   "outputs": [
    {
     "name": "stdout",
     "output_type": "stream",
     "text": [
      "Feature: 0, Score: 0.00135\n",
      "Feature: 1, Score: 0.00152\n",
      "Feature: 2, Score: 0.01373\n",
      "Feature: 3, Score: 0.01571\n",
      "Feature: 4, Score: 0.03326\n",
      "Feature: 5, Score: 0.01085\n",
      "Feature: 6, Score: 0.90136\n",
      "Feature: 7, Score: 0.00721\n",
      "Feature: 8, Score: 0.00227\n",
      "Feature: 9, Score: 0.00259\n",
      "Feature: 10, Score: 0.00570\n",
      "Feature: 11, Score: 0.00256\n",
      "Feature: 12, Score: 0.00190\n"
     ]
    }
   ],
   "source": [
    "\n",
    "importance = model.feature_importances_\n",
    "\n",
    "for i,v in enumerate(importance):\n",
    "    print('Feature: %0d, Score: %.5f' % (i,v))"
   ]
  },
  {
   "cell_type": "code",
   "execution_count": 19,
   "id": "48415314",
   "metadata": {},
   "outputs": [
    {
     "data": {
      "image/png": "[encoded data removed]",
      "text/plain": [
       "<Figure size 640x480 with 1 Axes>"
      ]
     },
     "metadata": {},
     "output_type": "display_data"
    }
   ],
   "source": [
    "plt.bar([x for x in range(len(importance))], importance)\n",
    "plt.show()"
   ]
  },
  {
   "cell_type": "code",
   "execution_count": null,
   "id": "944da398",
   "metadata": {},
   "outputs": [],
   "source": []
  }
 ],
 "metadata": {
  "kernelspec": {
   "display_name": "Python 3 (ipykernel)",
   "language": "python",
   "name": "python3"
  },
  "language_info": {
   "codemirror_mode": {
    "name": "ipython",
    "version": 3
   },
   "file_extension": ".py",
   "mimetype": "text/x-python",
   "name": "python",
   "nbconvert_exporter": "python",
   "pygments_lexer": "ipython3",
   "version": "3.9.6"
  }
 },
 "nbformat": 4,
 "nbformat_minor": 5
}
